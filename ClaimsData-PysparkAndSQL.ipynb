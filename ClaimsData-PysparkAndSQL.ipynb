{
 "cells": [
  {
   "cell_type": "markdown",
   "id": "db2a0a66",
   "metadata": {},
   "source": [
    "# A Claims Data Pyspark Work"
   ]
  },
  {
   "cell_type": "code",
   "execution_count": 1,
   "id": "24d49e06",
   "metadata": {},
   "outputs": [],
   "source": [
    "#!pip install pyspark"
   ]
  },
  {
   "cell_type": "code",
   "execution_count": 2,
   "id": "ec9a38d0",
   "metadata": {},
   "outputs": [],
   "source": [
    "#!pip install findspark"
   ]
  },
  {
   "cell_type": "code",
   "execution_count": 3,
   "id": "9ece2b10",
   "metadata": {},
   "outputs": [],
   "source": [
    "import findspark\n",
    "findspark.init()"
   ]
  },
  {
   "cell_type": "code",
   "execution_count": 6,
   "id": "00fc5e40",
   "metadata": {},
   "outputs": [],
   "source": [
    "from pyspark.sql import SparkSession\n",
    "from pyspark.sql.window import Window\n",
    "from pyspark.sql.functions import row_number\n"
   ]
  },
  {
   "cell_type": "code",
   "execution_count": 7,
   "id": "5b2fc694",
   "metadata": {},
   "outputs": [],
   "source": [
    "spark = SparkSession.builder.appName(\"KalyanExample\").getOrCreate()"
   ]
  },
  {
   "cell_type": "code",
   "execution_count": 8,
   "id": "0e332814",
   "metadata": {},
   "outputs": [],
   "source": [
    "df1 = spark.read.csv(\"C:/Users/kalsr/Documents/ClaimsDataFromKaggle/insurance_data.csv\", header=True, inferSchema=True)"
   ]
  },
  {
   "cell_type": "code",
   "execution_count": 9,
   "id": "3370b1a2",
   "metadata": {},
   "outputs": [],
   "source": [
    "df2 = spark.read.csv(\"C:/Users/kalsr/Documents/ClaimsDataFromKaggle/vendor_data.csv\", header=True, inferSchema=True)"
   ]
  },
  {
   "cell_type": "code",
   "execution_count": 10,
   "id": "45821ffa",
   "metadata": {},
   "outputs": [
    {
     "name": "stdout",
     "output_type": "stream",
     "text": [
      "root\n",
      " |-- TXN_DATE_TIME: timestamp (nullable = true)\n",
      " |-- TRANSACTION_ID: string (nullable = true)\n",
      " |-- CUSTOMER_ID: string (nullable = true)\n",
      " |-- POLICY_NUMBER: string (nullable = true)\n",
      " |-- POLICY_EFF_DT: date (nullable = true)\n",
      " |-- LOSS_DT: date (nullable = true)\n",
      " |-- REPORT_DT: date (nullable = true)\n",
      " |-- INSURANCE_TYPE: string (nullable = true)\n",
      " |-- PREMIUM_AMOUNT: double (nullable = true)\n",
      " |-- CLAIM_AMOUNT: integer (nullable = true)\n",
      " |-- CUSTOMER_NAME: string (nullable = true)\n",
      " |-- ADDRESS_LINE1: string (nullable = true)\n",
      " |-- ADDRESS_LINE2: string (nullable = true)\n",
      " |-- CITY: string (nullable = true)\n",
      " |-- STATE: string (nullable = true)\n",
      " |-- POSTAL_CODE: integer (nullable = true)\n",
      " |-- SSN: string (nullable = true)\n",
      " |-- MARITAL_STATUS: string (nullable = true)\n",
      " |-- AGE: integer (nullable = true)\n",
      " |-- TENURE: integer (nullable = true)\n",
      " |-- EMPLOYMENT_STATUS: string (nullable = true)\n",
      " |-- NO_OF_FAMILY_MEMBERS: integer (nullable = true)\n",
      " |-- RISK_SEGMENTATION: string (nullable = true)\n",
      " |-- HOUSE_TYPE: string (nullable = true)\n",
      " |-- SOCIAL_CLASS: string (nullable = true)\n",
      " |-- ROUTING_NUMBER: integer (nullable = true)\n",
      " |-- ACCT_NUMBER: string (nullable = true)\n",
      " |-- CUSTOMER_EDUCATION_LEVEL: string (nullable = true)\n",
      " |-- CLAIM_STATUS: string (nullable = true)\n",
      " |-- INCIDENT_SEVERITY: string (nullable = true)\n",
      " |-- AUTHORITY_CONTACTED: string (nullable = true)\n",
      " |-- ANY_INJURY: integer (nullable = true)\n",
      " |-- POLICE_REPORT_AVAILABLE: integer (nullable = true)\n",
      " |-- INCIDENT_STATE: string (nullable = true)\n",
      " |-- INCIDENT_CITY: string (nullable = true)\n",
      " |-- INCIDENT_HOUR_OF_THE_DAY: integer (nullable = true)\n",
      " |-- AGENT_ID: string (nullable = true)\n",
      " |-- VENDOR_ID: string (nullable = true)\n",
      "\n"
     ]
    }
   ],
   "source": [
    "df1.printSchema()\n"
   ]
  },
  {
   "cell_type": "code",
   "execution_count": 15,
   "id": "3781c785",
   "metadata": {},
   "outputs": [
    {
     "name": "stdout",
     "output_type": "stream",
     "text": [
      "+-------------------+--------------+-----------+-------------+-------------+----------+----------+--------------+--------------+------------+--------------------+--------------------+-------------+-----------+-----+-----------+-----------+--------------+---+------+-----------------+--------------------+-----------------+----------+------------+--------------+------------------+------------------------+------------+-----------------+-------------------+----------+-----------------------+--------------+-----------------+------------------------+----------+---------+\n",
      "|      TXN_DATE_TIME|TRANSACTION_ID|CUSTOMER_ID|POLICY_NUMBER|POLICY_EFF_DT|   LOSS_DT| REPORT_DT|INSURANCE_TYPE|PREMIUM_AMOUNT|CLAIM_AMOUNT|       CUSTOMER_NAME|       ADDRESS_LINE1|ADDRESS_LINE2|       CITY|STATE|POSTAL_CODE|        SSN|MARITAL_STATUS|AGE|TENURE|EMPLOYMENT_STATUS|NO_OF_FAMILY_MEMBERS|RISK_SEGMENTATION|HOUSE_TYPE|SOCIAL_CLASS|ROUTING_NUMBER|       ACCT_NUMBER|CUSTOMER_EDUCATION_LEVEL|CLAIM_STATUS|INCIDENT_SEVERITY|AUTHORITY_CONTACTED|ANY_INJURY|POLICE_REPORT_AVAILABLE|INCIDENT_STATE|    INCIDENT_CITY|INCIDENT_HOUR_OF_THE_DAY|  AGENT_ID|VENDOR_ID|\n",
      "+-------------------+--------------+-----------+-------------+-------------+----------+----------+--------------+--------------+------------+--------------------+--------------------+-------------+-----------+-----+-----------+-----------+--------------+---+------+-----------------+--------------------+-----------------+----------+------------+--------------+------------------+------------------------+------------+-----------------+-------------------+----------+-----------------------+--------------+-----------------+------------------------+----------+---------+\n",
      "|2020-06-01 00:00:00|   TXN00000001|  A00003822|  PLC00008468|   2015-06-23|2020-05-16|2020-05-21|        Health|        157.13|        9000|Christopher Demarest|7701 West Saint J...|        #2010|   Glendale|   AZ|      85308|087-11-1946|             Y| 54|    89|                Y|                   3|                L|       Own|          LI|     109134974|HXJP58258181908465|                Bachelor|           A|       Major Loss|             Police|         0|                      1|            GA|         Savannah|                       4|AGENT00413|VNDR00556|\n",
      "|2020-06-01 00:00:00|   TXN00000002|  A00008149|  PLC00009594|   2018-04-21|2020-05-13|2020-05-18|      Property|        141.71|       26000|      Ricardo Gatlin|8595 West 81st Drive|         NULL|     Arvada|   CO|      80005|685-33-3536|             N| 61|    80|                Y|                   4|                L|      Rent|          MI|      40125819|JUND46859540983731|                Bachelor|           A|       Total Loss|          Ambulance|         1|                      0|            AL|       Montgomery|                       0|AGENT00769|VNDR00592|\n",
      "|2020-06-01 00:00:00|   TXN00000003|  A00003172|  PLC00007969|   2019-10-03|2020-05-21|2020-05-26|      Property|        157.24|       13000|      Lashawn Engles| 637 Britannia Drive|         NULL|    Vallejo|   CA|      94591|378-36-0672|             N| 47|    68|                Y|                   6|                L|      Rent|          MI|      99513168|WGZZ90128415227650|                     PhD|           A|       Total Loss|             Police|         0|                      1|            CO|   Grand Junction|                      19|AGENT00883|VNDR00031|\n",
      "|2020-06-01 00:00:00|   TXN00000004|  A00007572|  PLC00009292|   2016-11-29|2020-05-14|2020-05-19|        Health|        172.87|       16000|      Steven Bassett|    2803 River Drive|         NULL|Thunderbolt|   GA|      31404|669-92-1861|             Y| 36|    16|                Y|                   7|                L|  Mortgage|          MI|      18429110|WIKE91555436351397|                 Masters|           A|       Minor Loss|          Ambulance|         0|                      0|            GA|         Savannah|                      12|AGENT00278|VNDR00075|\n",
      "|2020-06-01 00:00:00|   TXN00000005|  A00008173|  PLC00000204|   2011-12-26|2020-05-17|2020-05-22|        Travel|         88.53|        3000|     Jason Rodriguez| 7573 National Drive|         NULL|  Livermore|   CA|      94550|703-40-1033|             Y| 51|    16|                Y|                   2|                M|      Rent|          HI|      70752391|VYJW71311537294027|                 Masters|           A|       Major Loss|             Police|         0|                      1|            TN|        Nashville|                      18|AGENT00636|VNDR00472|\n",
      "|2020-06-01 00:00:00|   TXN00000006|  A00003571|  PLC00007244|   2012-12-28|2020-05-20|2020-05-25|          Life|         87.02|       63000|        Terrance Han|5275 North 59th A...|         NULL|   Glendale|   AZ|      85301|059-08-4065|             N| 42|    38|                Y|                   2|                M|      Rent|          MI|     124246313|TMDB19464299963687|                 College|           A|       Major Loss|          Ambulance|         0|                      1|            AZ|         Glendale|                       0|AGENT00402|     NULL|\n",
      "|2020-06-01 00:00:00|   TXN00000007|  A00007245|  PLC00002796|   2012-10-26|2020-05-13|2020-05-18|        Health|        197.23|        3000|      Dennis Johnson|    5119 Marla Drive|         NULL|Panama City|   FL|      32404|539-25-2348|             Y| 61|    20|                Y|                   7|                L|      Rent|          MI|      72461648|ZCMU49563664563577|                      NA|           A|       Major Loss|             Police|         1|                      1|            CT|       Manchester|                      10|AGENT00322|VNDR00150|\n",
      "|2020-06-01 00:00:00|   TXN00000008|  A00004301|  PLC00002925|   2018-12-30|2020-05-14|2020-05-19|         Motor|         83.77|        8000|  Maryalice Martinez|6 Little Country ...|         NULL|   Savannah|   GA|      31406|791-66-5539|             Y| 35|    97|                Y|                   3|                L|      Rent|          MI|      89467431|ZLMN59372702463649|             High School|           A|       Total Loss|             Police|         0|                      1|            FL|Panama City Beach|                      10|AGENT00152|VNDR00326|\n",
      "|2020-06-01 00:00:00|   TXN00000009|  A00004671|  PLC00006886|   2019-06-27|2020-05-21|2020-05-26|         Motor|         82.14|        5000|   Nicholas Hamilton|642 South 2nd Street|         #608| Louisville|   KY|      40202|427-41-7221|             N| 27|   118|                Y|                   4|                H|  Mortgage|          MI|     107890252|EVZR61264221554624|                Bachelor|           A|       Major Loss|             Police|         0|                      1|            AZ|         Glendale|                      22|AGENT00450|VNDR00437|\n",
      "|2020-06-01 00:00:00|   TXN00000010|  A00002020|  PLC00007657|   2015-12-19|2020-05-15|2020-05-20|        Travel|         71.29|        4000|  Nicholas Honokaupu|1914 Stratford Do...|         NULL| Montgomery|   AL|      36117|722-69-3392|             Y| 61|   119|                Y|                   4|                L|      Rent|          HI|      16215148|UXQB38236110828938|                     PhD|           A|       Major Loss|               None|         0|                      0|            CA|      San Leandro|                       4|AGENT00682|     NULL|\n",
      "|2020-06-01 00:00:00|   TXN00000011|  A00007952|  PLC00003007|   2019-03-30|2020-05-20|2020-05-25|          Life|         61.45|       92000|         Janet Watts|    200 Redwood Road|         NULL| Manchester|   CT|       6040|233-66-3524|             N| 59|    14|                Y|                   7|                M|  Mortgage|          MI|      58804083|CQZQ73037026635053|                 Masters|           A|       Major Loss|          Ambulance|         1|                      1|            MD|          Crofton|                      23|AGENT01091|VNDR00163|\n",
      "|2020-06-01 00:00:00|   TXN00000012|  A00006313|  PLC00002139|   2016-07-22|2020-05-21|2020-05-26|         Motor|        101.15|        8000|    Patricia Garrett|   6721 Boundary Run|         NULL|  Nashville|   TN|      37221|224-80-1633|             Y| 42|    39|                Y|                   2|                H|       Own|          HI|      11697253|YGZM08271540598654|             High School|           D|       Major Loss|          Ambulance|         1|                      1|            CT|       Manchester|                       3|AGENT00288|     NULL|\n",
      "|2020-06-01 00:00:00|   TXN00000013|  A00003693|  PLC00007839|   2019-06-12|2020-05-24|2020-05-27|        Health|        157.95|       11000|        Lisa Rosario|12870 Old Seward ...|  #STE 000105|  Anchorage|   AK|      99515|115-30-1247|             Y| 57|   118|                Y|                   3|                M|  Mortgage|          LI|      74438433|NAUY34845981013549|                Bachelor|           A|       Major Loss|               None|         0|                      1|            KY|       Louisville|                      22|AGENT00015|VNDR00191|\n",
      "|2020-06-01 00:00:00|   TXN00000014|  A00007988|  PLC00002521|   2020-01-29|2020-05-18|2020-05-23|          Life|         64.16|       51000|  Felicita Stoughton|     110 Oxford Road|         NULL|   Savannah|   GA|      31419|170-28-1062|             N| 31|   118|                Y|                   7|                L|       Own|          LI|      64537739|GIOA39230059052323|             High School|           A|       Total Loss|          Ambulance|         1|                      0|            AK|        Anchorage|                       0|AGENT01094|     NULL|\n",
      "|2020-06-01 00:00:00|   TXN00000015|  A00005617|  PLC00007011|   2015-06-08|2020-05-20|2020-05-25|        Mobile|          6.76|         700|    David Pennington|          210 Seaman|         NULL|    McCrory|   AR|      72101|519-11-2464|             Y| 55|    90|                Y|                   6|                L|  Mortgage|          HI|      93703880|LDQH95350551363442|                     PhD|           A|       Major Loss|             Police|         1|                      1|            CO|           Arvada|                      11|AGENT00324|VNDR00135|\n",
      "|2020-06-01 00:00:00|   TXN00000016|  A00008033|  PLC00008152|   2011-01-25|2020-05-12|2020-05-17|         Motor|        128.73|        9000|     William Halcomb|5124 E Street Sou...|         NULL| Washington|   DC|      20019|142-09-4530|             Y| 57|    48|                Y|                   2|                L|      Rent|          LI|     115671968|KNLE94705483907630|                      NA|           A|       Minor Loss|             Police|         0|                      1|            AR|     Fayetteville|                      22|AGENT00608|VNDR00051|\n",
      "|2020-06-01 00:00:00|   TXN00000017|  A00007184|  PLC00000118|   2014-04-17|2020-05-13|2020-05-18|      Property|        114.42|       39000|     Michael Kimball|      42 Edison Road|         NULL| Manchester|   CT|       6040|448-54-0272|             Y| 53|    19|                Y|                   5|                M|  Mortgage|          MI|      71737399|XHMQ62339445289593|                Bachelor|           A|       Major Loss|              Other|         0|                      1|            DC|       Washington|                       2|AGENT00911|VNDR00238|\n",
      "|2020-06-01 00:00:00|   TXN00000018|  A00007426|  PLC00000165|   2015-03-25|2020-05-22|2020-05-25|      Property|        157.18|       40000|          Mark Huang|9545 West 74th Av...|         NULL|     Arvada|   CO|      80005|696-53-5272|             Y| 32|   106|                Y|                   4|                L|  Mortgage|          HI|      47797949|AAET31045958150067|                Bachelor|           A|       Major Loss|             Police|         0|                      1|            AL|       Montgomery|                      14|AGENT00079|     NULL|\n",
      "|2020-06-01 00:00:00|   TXN00000019|  A00009265|  PLC00000619|   2017-11-03|2020-05-27|2020-05-28|         Motor|        116.55|        8000|       Marshall Worm|  119 Oakland Street|         NULL| Manchester|   CT|       6042|848-09-7847|             N| 45|    69|                Y|                   4|                H|  Mortgage|          MI|     117427424|WGFI36482098909043|             High School|           A|       Total Loss|          Ambulance|         0|                      1|            MA|        Fitchburg|                      20|AGENT00994|VNDR00107|\n",
      "|2020-06-01 00:00:00|   TXN00000020|  A00005314|  PLC00001411|   2013-11-08|2020-05-17|2020-05-22|          Life|         77.17|       68000|        Mary Carmona|643 Farragut Stre...|         NULL| Washington|   DC|      20011|614-24-5584|             Y| 59|   119|                Y|                   5|                M|  Mortgage|          MI|      32494684|GYVA20207571838807|             High School|           A|       Total Loss|               None|         1|                      1|            CO|           Arvada|                       1|AGENT00490|     NULL|\n",
      "+-------------------+--------------+-----------+-------------+-------------+----------+----------+--------------+--------------+------------+--------------------+--------------------+-------------+-----------+-----+-----------+-----------+--------------+---+------+-----------------+--------------------+-----------------+----------+------------+--------------+------------------+------------------------+------------+-----------------+-------------------+----------+-----------------------+--------------+-----------------+------------------------+----------+---------+\n",
      "only showing top 20 rows\n",
      "\n"
     ]
    }
   ],
   "source": [
    "df1.show()"
   ]
  },
  {
   "cell_type": "code",
   "execution_count": 16,
   "id": "d64bd855",
   "metadata": {},
   "outputs": [
    {
     "name": "stdout",
     "output_type": "stream",
     "text": [
      "root\n",
      " |-- VENDOR_ID: string (nullable = true)\n",
      " |-- VENDOR_NAME: string (nullable = true)\n",
      " |-- ADDRESS_LINE1: string (nullable = true)\n",
      " |-- ADDRESS_LINE2: string (nullable = true)\n",
      " |-- CITY: string (nullable = true)\n",
      " |-- STATE: string (nullable = true)\n",
      " |-- POSTAL_CODE: integer (nullable = true)\n",
      "\n"
     ]
    }
   ],
   "source": [
    "df2.printSchema()"
   ]
  },
  {
   "cell_type": "code",
   "execution_count": 19,
   "id": "046d2910",
   "metadata": {},
   "outputs": [],
   "source": [
    "df3 = df1.join(df2 , on=['VENDOR_ID'] , how = 'left')\n",
    "#Left joining the insurance data with the vendor data"
   ]
  },
  {
   "cell_type": "code",
   "execution_count": 20,
   "id": "ff5e7bdf",
   "metadata": {},
   "outputs": [
    {
     "data": {
      "text/plain": [
       "pyspark.sql.dataframe.DataFrame"
      ]
     },
     "execution_count": 20,
     "metadata": {},
     "output_type": "execute_result"
    }
   ],
   "source": [
    "type(df3)"
   ]
  },
  {
   "cell_type": "code",
   "execution_count": 21,
   "id": "fc3849d1",
   "metadata": {},
   "outputs": [
    {
     "name": "stdout",
     "output_type": "stream",
     "text": [
      "root\n",
      " |-- VENDOR_ID: string (nullable = true)\n",
      " |-- TXN_DATE_TIME: timestamp (nullable = true)\n",
      " |-- TRANSACTION_ID: string (nullable = true)\n",
      " |-- CUSTOMER_ID: string (nullable = true)\n",
      " |-- POLICY_NUMBER: string (nullable = true)\n",
      " |-- POLICY_EFF_DT: date (nullable = true)\n",
      " |-- LOSS_DT: date (nullable = true)\n",
      " |-- REPORT_DT: date (nullable = true)\n",
      " |-- INSURANCE_TYPE: string (nullable = true)\n",
      " |-- PREMIUM_AMOUNT: double (nullable = true)\n",
      " |-- CLAIM_AMOUNT: integer (nullable = true)\n",
      " |-- CUSTOMER_NAME: string (nullable = true)\n",
      " |-- ADDRESS_LINE1: string (nullable = true)\n",
      " |-- ADDRESS_LINE2: string (nullable = true)\n",
      " |-- CITY: string (nullable = true)\n",
      " |-- STATE: string (nullable = true)\n",
      " |-- POSTAL_CODE: integer (nullable = true)\n",
      " |-- SSN: string (nullable = true)\n",
      " |-- MARITAL_STATUS: string (nullable = true)\n",
      " |-- AGE: integer (nullable = true)\n",
      " |-- TENURE: integer (nullable = true)\n",
      " |-- EMPLOYMENT_STATUS: string (nullable = true)\n",
      " |-- NO_OF_FAMILY_MEMBERS: integer (nullable = true)\n",
      " |-- RISK_SEGMENTATION: string (nullable = true)\n",
      " |-- HOUSE_TYPE: string (nullable = true)\n",
      " |-- SOCIAL_CLASS: string (nullable = true)\n",
      " |-- ROUTING_NUMBER: integer (nullable = true)\n",
      " |-- ACCT_NUMBER: string (nullable = true)\n",
      " |-- CUSTOMER_EDUCATION_LEVEL: string (nullable = true)\n",
      " |-- CLAIM_STATUS: string (nullable = true)\n",
      " |-- INCIDENT_SEVERITY: string (nullable = true)\n",
      " |-- AUTHORITY_CONTACTED: string (nullable = true)\n",
      " |-- ANY_INJURY: integer (nullable = true)\n",
      " |-- POLICE_REPORT_AVAILABLE: integer (nullable = true)\n",
      " |-- INCIDENT_STATE: string (nullable = true)\n",
      " |-- INCIDENT_CITY: string (nullable = true)\n",
      " |-- INCIDENT_HOUR_OF_THE_DAY: integer (nullable = true)\n",
      " |-- AGENT_ID: string (nullable = true)\n",
      " |-- VENDOR_NAME: string (nullable = true)\n",
      " |-- ADDRESS_LINE1: string (nullable = true)\n",
      " |-- ADDRESS_LINE2: string (nullable = true)\n",
      " |-- CITY: string (nullable = true)\n",
      " |-- STATE: string (nullable = true)\n",
      " |-- POSTAL_CODE: integer (nullable = true)\n",
      "\n"
     ]
    }
   ],
   "source": [
    "df3.printSchema()"
   ]
  },
  {
   "cell_type": "code",
   "execution_count": 23,
   "id": "232064e1",
   "metadata": {
    "scrolled": true
   },
   "outputs": [],
   "source": [
    "df4 = df3.select('CUSTOMER_NAME','AGE', 'PREMIUM_AMOUNT', 'ACCT_NUMBER', 'CLAIM_AMOUNT', 'EMPLOYMENT_STATUS', 'MARITAL_STATUS', 'CLAIM_STATUS', 'INCIDENT_SEVERITY', 'SOCIAL_CLASS', 'VENDOR_ID', 'CUSTOMER_ID' )"
   ]
  },
  {
   "cell_type": "code",
   "execution_count": 24,
   "id": "71b765bb",
   "metadata": {
    "scrolled": true
   },
   "outputs": [
    {
     "name": "stdout",
     "output_type": "stream",
     "text": [
      "+--------------------+---+--------------+------------------+------------+-----------------+--------------+------------+-----------------+------------+---------+-----------+\n",
      "|       CUSTOMER_NAME|AGE|PREMIUM_AMOUNT|       ACCT_NUMBER|CLAIM_AMOUNT|EMPLOYMENT_STATUS|MARITAL_STATUS|CLAIM_STATUS|INCIDENT_SEVERITY|SOCIAL_CLASS|VENDOR_ID|CUSTOMER_ID|\n",
      "+--------------------+---+--------------+------------------+------------+-----------------+--------------+------------+-----------------+------------+---------+-----------+\n",
      "|Christopher Demarest| 54|        157.13|HXJP58258181908465|        9000|                Y|             Y|           A|       Major Loss|          LI|VNDR00556|  A00003822|\n",
      "|      Ricardo Gatlin| 61|        141.71|JUND46859540983731|       26000|                Y|             N|           A|       Total Loss|          MI|VNDR00592|  A00008149|\n",
      "|      Lashawn Engles| 47|        157.24|WGZZ90128415227650|       13000|                Y|             N|           A|       Total Loss|          MI|VNDR00031|  A00003172|\n",
      "|      Steven Bassett| 36|        172.87|WIKE91555436351397|       16000|                Y|             Y|           A|       Minor Loss|          MI|VNDR00075|  A00007572|\n",
      "|     Jason Rodriguez| 51|         88.53|VYJW71311537294027|        3000|                Y|             Y|           A|       Major Loss|          HI|VNDR00472|  A00008173|\n",
      "+--------------------+---+--------------+------------------+------------+-----------------+--------------+------------+-----------------+------------+---------+-----------+\n",
      "only showing top 5 rows\n",
      "\n"
     ]
    }
   ],
   "source": [
    "df4.show(n=5)"
   ]
  },
  {
   "cell_type": "code",
   "execution_count": 25,
   "id": "0e74ae7e",
   "metadata": {},
   "outputs": [
    {
     "name": "stdout",
     "output_type": "stream",
     "text": [
      "+--------------------+---+--------------+------------------+------------+-----------------+--------------+------------+-----------------+------------+---------+-----------+\n",
      "|       CUSTOMER_NAME|AGE|PREMIUM_AMOUNT|       ACCT_NUMBER|CLAIM_AMOUNT|EMPLOYMENT_STATUS|MARITAL_STATUS|CLAIM_STATUS|INCIDENT_SEVERITY|SOCIAL_CLASS|VENDOR_ID|CUSTOMER_ID|\n",
      "+--------------------+---+--------------+------------------+------------+-----------------+--------------+------------+-----------------+------------+---------+-----------+\n",
      "|Christopher Demarest| 54|        157.13|HXJP58258181908465|        9000|                Y|             Y|           A|       Major Loss|          LI|VNDR00556|  A00003822|\n",
      "|      Ricardo Gatlin| 61|        141.71|JUND46859540983731|       26000|                Y|             N|           A|       Total Loss|          MI|VNDR00592|  A00008149|\n",
      "|      Lashawn Engles| 47|        157.24|WGZZ90128415227650|       13000|                Y|             N|           A|       Total Loss|          MI|VNDR00031|  A00003172|\n",
      "|     Jason Rodriguez| 51|         88.53|VYJW71311537294027|        3000|                Y|             Y|           A|       Major Loss|          HI|VNDR00472|  A00008173|\n",
      "|        Terrance Han| 42|         87.02|TMDB19464299963687|       63000|                Y|             N|           A|       Major Loss|          MI|     NULL|  A00003571|\n",
      "+--------------------+---+--------------+------------------+------------+-----------------+--------------+------------+-----------------+------------+---------+-----------+\n",
      "only showing top 5 rows\n",
      "\n"
     ]
    }
   ],
   "source": [
    "#df.filter(df['Global_Sales'] >= 40).show()\n",
    "df4.filter(df4['AGE'] >= 40).show(n=5)\n",
    "#df4.filter(df4['AGE'] >= 40 & df4['SOCIAL_CLASS'] == 'HI').show()"
   ]
  },
  {
   "cell_type": "code",
   "execution_count": 26,
   "id": "f07e5d6e",
   "metadata": {},
   "outputs": [
    {
     "name": "stdout",
     "output_type": "stream",
     "text": [
      "+---------------+---+--------------+------------------+------------+-----------------+--------------+------------+-----------------+------------+---------+-----------+\n",
      "|  CUSTOMER_NAME|AGE|PREMIUM_AMOUNT|       ACCT_NUMBER|CLAIM_AMOUNT|EMPLOYMENT_STATUS|MARITAL_STATUS|CLAIM_STATUS|INCIDENT_SEVERITY|SOCIAL_CLASS|VENDOR_ID|CUSTOMER_ID|\n",
      "+---------------+---+--------------+------------------+------------+-----------------+--------------+------------+-----------------+------------+---------+-----------+\n",
      "|Chester Barnard| 25|         74.48|RNKV16004687398667|       11000|                Y|             Y|           D|       Total Loss|          LI|VNDR00192|  A00004091|\n",
      "|     Lacey Ross| 25|         75.11|WBRL00629616905750|       66000|                Y|             Y|           A|       Total Loss|          MI|VNDR00102|  A00008276|\n",
      "|    Jill Alonzo| 25|           9.6|ZUXM15420006014019|         200|                Y|             Y|           A|       Minor Loss|          MI|VNDR00228|  A00004422|\n",
      "|Mildred Whitten| 25|         147.7|EDWX65101648714154|       13000|                Y|             N|           A|       Major Loss|          MI|VNDR00249|  A00003691|\n",
      "| Garry Morreale| 25|         75.85|IWLQ14482444844438|       60000|                Y|             Y|           A|       Total Loss|          MI|VNDR00468|  A00007633|\n",
      "+---------------+---+--------------+------------------+------------+-----------------+--------------+------------+-----------------+------------+---------+-----------+\n",
      "only showing top 5 rows\n",
      "\n"
     ]
    }
   ],
   "source": [
    "df4.orderBy(df4['AGE']).show(n=5)"
   ]
  },
  {
   "cell_type": "code",
   "execution_count": 27,
   "id": "44e30e75",
   "metadata": {},
   "outputs": [],
   "source": [
    "df4.createOrReplaceTempView('KalTable')"
   ]
  },
  {
   "cell_type": "code",
   "execution_count": 28,
   "id": "7e1412f8",
   "metadata": {},
   "outputs": [],
   "source": [
    "query_result = spark.sql('select * from kalTable')"
   ]
  },
  {
   "cell_type": "code",
   "execution_count": 29,
   "id": "17162f6e",
   "metadata": {},
   "outputs": [
    {
     "name": "stdout",
     "output_type": "stream",
     "text": [
      "+--------------------+---+--------------+------------------+------------+-----------------+--------------+------------+-----------------+------------+---------+-----------+\n",
      "|       CUSTOMER_NAME|AGE|PREMIUM_AMOUNT|       ACCT_NUMBER|CLAIM_AMOUNT|EMPLOYMENT_STATUS|MARITAL_STATUS|CLAIM_STATUS|INCIDENT_SEVERITY|SOCIAL_CLASS|VENDOR_ID|CUSTOMER_ID|\n",
      "+--------------------+---+--------------+------------------+------------+-----------------+--------------+------------+-----------------+------------+---------+-----------+\n",
      "|Christopher Demarest| 54|        157.13|HXJP58258181908465|        9000|                Y|             Y|           A|       Major Loss|          LI|VNDR00556|  A00003822|\n",
      "|      Ricardo Gatlin| 61|        141.71|JUND46859540983731|       26000|                Y|             N|           A|       Total Loss|          MI|VNDR00592|  A00008149|\n",
      "|      Lashawn Engles| 47|        157.24|WGZZ90128415227650|       13000|                Y|             N|           A|       Total Loss|          MI|VNDR00031|  A00003172|\n",
      "|      Steven Bassett| 36|        172.87|WIKE91555436351397|       16000|                Y|             Y|           A|       Minor Loss|          MI|VNDR00075|  A00007572|\n",
      "|     Jason Rodriguez| 51|         88.53|VYJW71311537294027|        3000|                Y|             Y|           A|       Major Loss|          HI|VNDR00472|  A00008173|\n",
      "+--------------------+---+--------------+------------------+------------+-----------------+--------------+------------+-----------------+------------+---------+-----------+\n",
      "only showing top 5 rows\n",
      "\n"
     ]
    }
   ],
   "source": [
    "query_result.show(n=5)"
   ]
  },
  {
   "cell_type": "code",
   "execution_count": 30,
   "id": "c920038c",
   "metadata": {},
   "outputs": [
    {
     "name": "stdout",
     "output_type": "stream",
     "text": [
      "+--------------+---+--------------+------------------+------------+-----------------+--------------+------------+-----------------+------------+---------+-----------+\n",
      "| CUSTOMER_NAME|AGE|PREMIUM_AMOUNT|       ACCT_NUMBER|CLAIM_AMOUNT|EMPLOYMENT_STATUS|MARITAL_STATUS|CLAIM_STATUS|INCIDENT_SEVERITY|SOCIAL_CLASS|VENDOR_ID|CUSTOMER_ID|\n",
      "+--------------+---+--------------+------------------+------------+-----------------+--------------+------------+-----------------+------------+---------+-----------+\n",
      "|Ricardo Gatlin| 61|        141.71|JUND46859540983731|       26000|                Y|             N|           A|       Total Loss|          MI|VNDR00592|  A00008149|\n",
      "|Lashawn Engles| 47|        157.24|WGZZ90128415227650|       13000|                Y|             N|           A|       Total Loss|          MI|VNDR00031|  A00003172|\n",
      "|Steven Bassett| 36|        172.87|WIKE91555436351397|       16000|                Y|             Y|           A|       Minor Loss|          MI|VNDR00075|  A00007572|\n",
      "|  Terrance Han| 42|         87.02|TMDB19464299963687|       63000|                Y|             N|           A|       Major Loss|          MI|     NULL|  A00003571|\n",
      "|Dennis Johnson| 61|        197.23|ZCMU49563664563577|        3000|                Y|             Y|           A|       Major Loss|          MI|VNDR00150|  A00007245|\n",
      "+--------------+---+--------------+------------------+------------+-----------------+--------------+------------+-----------------+------------+---------+-----------+\n",
      "only showing top 5 rows\n",
      "\n"
     ]
    }
   ],
   "source": [
    "query_result = spark.sql(\"select * from kalTable where social_class = 'MI'\")\n",
    "query_result.show(n=5)"
   ]
  },
  {
   "cell_type": "code",
   "execution_count": 32,
   "id": "6f31c709",
   "metadata": {},
   "outputs": [
    {
     "name": "stdout",
     "output_type": "stream",
     "text": [
      "+---------+-----------+\n",
      "|VENDOR_ID|claim_count|\n",
      "+---------+-----------+\n",
      "|     NULL|       3245|\n",
      "|VNDR00451|         28|\n",
      "|VNDR00535|         28|\n",
      "|VNDR00083|         27|\n",
      "|VNDR00167|         26|\n",
      "|VNDR00590|         26|\n",
      "|VNDR00031|         25|\n",
      "|VNDR00120|         25|\n",
      "|VNDR00339|         25|\n",
      "|VNDR00047|         25|\n",
      "+---------+-----------+\n",
      "only showing top 10 rows\n",
      "\n"
     ]
    }
   ],
   "source": [
    "query_result = spark.sql(\"SELECT VENDOR_ID, COUNT(*) AS claim_count from kalTable GROUP BY VENDOR_ID ORDER BY claim_count DESC\")\n",
    "query_result.show(n=10)\n",
    "\n",
    "#Query for the top 10 vendor utilization"
   ]
  },
  {
   "cell_type": "code",
   "execution_count": 39,
   "id": "798bcbfa",
   "metadata": {},
   "outputs": [
    {
     "name": "stdout",
     "output_type": "stream",
     "text": [
      "+--------+----------------+\n",
      "| claimed|            name|\n",
      "+--------+----------------+\n",
      "|100000.0|    Roger Mcleod|\n",
      "|100000.0|   Robert Flores|\n",
      "|100000.0|     Jimmy Boyer|\n",
      "|100000.0|   Carolyn Cronk|\n",
      "|100000.0|Genevieve Taylor|\n",
      "|100000.0| Betty Rodriguez|\n",
      "|100000.0|  Dustin Willert|\n",
      "|100000.0|  Regina Baldwin|\n",
      "|100000.0|Bobbie Chiarello|\n",
      "|100000.0|Janet Soderquist|\n",
      "|100000.0|Mackenzie Sparks|\n",
      "|100000.0| Harold Penalosa|\n",
      "|100000.0|     Jack Ammons|\n",
      "|100000.0|      Ezra Crews|\n",
      "|100000.0|  Jacinta Suiter|\n",
      "|100000.0|  Herman Vasquez|\n",
      "| 99000.0|    Michael Lund|\n",
      "| 99000.0|  Daniel Conklin|\n",
      "| 99000.0| Preston Chatman|\n",
      "| 99000.0|  Charles Watson|\n",
      "+--------+----------------+\n",
      "only showing top 20 rows\n",
      "\n"
     ]
    }
   ],
   "source": [
    "spark.sql(\"select mean(CLAIM_AMOUNT) as claimed, customer_name as name from kalTable group by customer_name ORDER BY claimed DESC\").show()\n",
    "#Ordering the customer name by the amount claimed per year\n"
   ]
  },
  {
   "cell_type": "code",
   "execution_count": 38,
   "id": "d598f861",
   "metadata": {},
   "outputs": [
    {
     "name": "stdout",
     "output_type": "stream",
     "text": [
      "+-----------+-----------+\n",
      "|CUSTOMER_ID|claim_count|\n",
      "+-----------+-----------+\n",
      "|  A00005805|          1|\n",
      "|  A00007779|          1|\n",
      "|  A00003059|          1|\n",
      "|  A00003629|          1|\n",
      "|  A00006965|          1|\n",
      "|  A00001898|          1|\n",
      "|  A00007189|          1|\n",
      "|  A00000961|          1|\n",
      "|  A00007083|          1|\n",
      "|  A00004344|          1|\n",
      "+-----------+-----------+\n",
      "only showing top 10 rows\n",
      "\n"
     ]
    }
   ],
   "source": [
    "query_result = spark.sql(\"SELECT CUSTOMER_ID, COUNT(*) AS claim_count from kalTable GROUP BY CUSTOMER_ID ORDER BY claim_count DESC\")\n",
    "query_result.show(n=10)\n",
    "#Customer ID based on number claims "
   ]
  },
  {
   "cell_type": "code",
   "execution_count": 40,
   "id": "5f58c074",
   "metadata": {},
   "outputs": [
    {
     "name": "stdout",
     "output_type": "stream",
     "text": [
      "+------------------+-------+---+-----+\n",
      "|     customer_name|claimed|cmt|  sum|\n",
      "+------------------+-------+---+-----+\n",
      "|   Cherie Regalado|19000.0|  1|19000|\n",
      "|     Maria Luciani|36000.0|  1|36000|\n",
      "|      Nydia Bowser|15000.0|  1|15000|\n",
      "|    Joyce Mcintyre|28000.0|  1|28000|\n",
      "|    Josephine Pyle|25000.0|  1|25000|\n",
      "|      Ruth Clouser|31000.0|  1|31000|\n",
      "|       Tracy Smith|64000.0|  1|64000|\n",
      "|   Brooke Lawrence| 5000.0|  1| 5000|\n",
      "|       Gary Rogers|14000.0|  1|14000|\n",
      "|     Crystal Ramos|99000.0|  1|99000|\n",
      "|      Lynn Thurmer|  400.0|  1|  400|\n",
      "|Marianne Armstrong|30000.0|  1|30000|\n",
      "|      James Conley|24000.0|  1|24000|\n",
      "|     Roger Kuehnle|15000.0|  1|15000|\n",
      "|     Rosie Milburn|11000.0|  1|11000|\n",
      "|      John Hopkins| 9000.0|  1| 9000|\n",
      "|    Edward Peacock|40000.0|  1|40000|\n",
      "|     Susan Nutting|29000.0|  1|29000|\n",
      "|      Charles Wold|20000.0|  1|20000|\n",
      "|      Sara Cinotti| 3000.0|  1| 3000|\n",
      "+------------------+-------+---+-----+\n",
      "only showing top 20 rows\n",
      "\n"
     ]
    }
   ],
   "source": [
    "spark.sql(\"select customer_name, mean(CLAIM_AMOUNT) as claimed, count(CLAIM_AMOUNT) as cmt, sum(CLAIM_AMOUNT) as sum from kalTable where age >= 50 group by customer_name\").show()"
   ]
  },
  {
   "cell_type": "code",
   "execution_count": 68,
   "id": "5e9e75f4",
   "metadata": {},
   "outputs": [
    {
     "name": "stdout",
     "output_type": "stream",
     "text": [
      "+-----------------+\n",
      "|         col_name|\n",
      "+-----------------+\n",
      "|    CUSTOMER_NAME|\n",
      "|              AGE|\n",
      "|   PREMIUM_AMOUNT|\n",
      "|      ACCT_NUMBER|\n",
      "|     CLAIM_AMOUNT|\n",
      "|EMPLOYMENT_STATUS|\n",
      "|   MARITAL_STATUS|\n",
      "|     CLAIM_STATUS|\n",
      "|INCIDENT_SEVERITY|\n",
      "|     SOCIAL_CLASS|\n",
      "|        VENDOR_ID|\n",
      "|      CUSTOMER_ID|\n",
      "+-----------------+\n",
      "\n"
     ]
    }
   ],
   "source": [
    "spark.sql(\"SHOW COLUMNS FROM kalTable\").show();"
   ]
  },
  {
   "cell_type": "code",
   "execution_count": 73,
   "id": "50b7d936",
   "metadata": {},
   "outputs": [
    {
     "ename": "AnalysisException",
     "evalue": "[MISSING_GROUP_BY] The query does not include a GROUP BY clause. Add GROUP BY or turn it into the window functions using OVER clauses.; line 1 pos 0;\nAggregate [customer_name#27, mean(CLAIM_AMOUNT#26) AS claimed#1393, count(CLAIM_AMOUNT#26) AS cnt#1394L]\n+- Filter (age#35 >= 50)\n   +- SubqueryAlias kaltable\n      +- View (`KalTable`, [CUSTOMER_NAME#27,AGE#35,PREMIUM_AMOUNT#25,ACCT_NUMBER#43,CLAIM_AMOUNT#26,EMPLOYMENT_STATUS#37,MARITAL_STATUS#34,CLAIM_STATUS#45,INCIDENT_SEVERITY#46,SOCIAL_CLASS#41,VENDOR_ID#54,CUSTOMER_ID#19])\n         +- Project [CUSTOMER_NAME#27, AGE#35, PREMIUM_AMOUNT#25, ACCT_NUMBER#43, CLAIM_AMOUNT#26, EMPLOYMENT_STATUS#37, MARITAL_STATUS#34, CLAIM_STATUS#45, INCIDENT_SEVERITY#46, SOCIAL_CLASS#41, VENDOR_ID#54, CUSTOMER_ID#19]\n            +- Project [VENDOR_ID#54, TXN_DATE_TIME#17, TRANSACTION_ID#18, CUSTOMER_ID#19, POLICY_NUMBER#20, POLICY_EFF_DT#21, LOSS_DT#22, REPORT_DT#23, INSURANCE_TYPE#24, PREMIUM_AMOUNT#25, CLAIM_AMOUNT#26, CUSTOMER_NAME#27, ADDRESS_LINE1#28, ADDRESS_LINE2#29, CITY#30, STATE#31, POSTAL_CODE#32, SSN#33, MARITAL_STATUS#34, AGE#35, TENURE#36, EMPLOYMENT_STATUS#37, NO_OF_FAMILY_MEMBERS#38, RISK_SEGMENTATION#39, ... 20 more fields]\n               +- Join LeftOuter, (VENDOR_ID#54 = VENDOR_ID#110)\n                  :- Relation [TXN_DATE_TIME#17,TRANSACTION_ID#18,CUSTOMER_ID#19,POLICY_NUMBER#20,POLICY_EFF_DT#21,LOSS_DT#22,REPORT_DT#23,INSURANCE_TYPE#24,PREMIUM_AMOUNT#25,CLAIM_AMOUNT#26,CUSTOMER_NAME#27,ADDRESS_LINE1#28,ADDRESS_LINE2#29,CITY#30,STATE#31,POSTAL_CODE#32,SSN#33,MARITAL_STATUS#34,AGE#35,TENURE#36,EMPLOYMENT_STATUS#37,NO_OF_FAMILY_MEMBERS#38,RISK_SEGMENTATION#39,HOUSE_TYPE#40,... 14 more fields] csv\n                  +- Relation [VENDOR_ID#110,VENDOR_NAME#111,ADDRESS_LINE1#112,ADDRESS_LINE2#113,CITY#114,STATE#115,POSTAL_CODE#116] csv\n",
     "output_type": "error",
     "traceback": [
      "\u001b[1;31m---------------------------------------------------------------------------\u001b[0m",
      "\u001b[1;31mAnalysisException\u001b[0m                         Traceback (most recent call last)",
      "Cell \u001b[1;32mIn[73], line 1\u001b[0m\n\u001b[1;32m----> 1\u001b[0m \u001b[43mspark\u001b[49m\u001b[38;5;241;43m.\u001b[39;49m\u001b[43msql\u001b[49m\u001b[43m(\u001b[49m\u001b[38;5;124;43m\"\u001b[39;49m\u001b[38;5;124;43mselect customer_name, mean(CLAIM_AMOUNT) as claimed, count(CLAIM_AMOUNT) as cnt from kalTable where age >= 50 \u001b[39;49m\u001b[38;5;124;43m\"\u001b[39;49m\u001b[43m)\u001b[49m\u001b[38;5;241m.\u001b[39mshow()\n",
      "File \u001b[1;32m~\\anaconda3\\lib\\site-packages\\pyspark\\sql\\session.py:1631\u001b[0m, in \u001b[0;36mSparkSession.sql\u001b[1;34m(self, sqlQuery, args, **kwargs)\u001b[0m\n\u001b[0;32m   1627\u001b[0m         \u001b[38;5;28;01massert\u001b[39;00m \u001b[38;5;28mself\u001b[39m\u001b[38;5;241m.\u001b[39m_jvm \u001b[38;5;129;01mis\u001b[39;00m \u001b[38;5;129;01mnot\u001b[39;00m \u001b[38;5;28;01mNone\u001b[39;00m\n\u001b[0;32m   1628\u001b[0m         litArgs \u001b[38;5;241m=\u001b[39m \u001b[38;5;28mself\u001b[39m\u001b[38;5;241m.\u001b[39m_jvm\u001b[38;5;241m.\u001b[39mPythonUtils\u001b[38;5;241m.\u001b[39mtoArray(\n\u001b[0;32m   1629\u001b[0m             [_to_java_column(lit(v)) \u001b[38;5;28;01mfor\u001b[39;00m v \u001b[38;5;129;01min\u001b[39;00m (args \u001b[38;5;129;01mor\u001b[39;00m [])]\n\u001b[0;32m   1630\u001b[0m         )\n\u001b[1;32m-> 1631\u001b[0m     \u001b[38;5;28;01mreturn\u001b[39;00m DataFrame(\u001b[38;5;28;43mself\u001b[39;49m\u001b[38;5;241;43m.\u001b[39;49m\u001b[43m_jsparkSession\u001b[49m\u001b[38;5;241;43m.\u001b[39;49m\u001b[43msql\u001b[49m\u001b[43m(\u001b[49m\u001b[43msqlQuery\u001b[49m\u001b[43m,\u001b[49m\u001b[43m \u001b[49m\u001b[43mlitArgs\u001b[49m\u001b[43m)\u001b[49m, \u001b[38;5;28mself\u001b[39m)\n\u001b[0;32m   1632\u001b[0m \u001b[38;5;28;01mfinally\u001b[39;00m:\n\u001b[0;32m   1633\u001b[0m     \u001b[38;5;28;01mif\u001b[39;00m \u001b[38;5;28mlen\u001b[39m(kwargs) \u001b[38;5;241m>\u001b[39m \u001b[38;5;241m0\u001b[39m:\n",
      "File \u001b[1;32m~\\anaconda3\\lib\\site-packages\\py4j\\java_gateway.py:1322\u001b[0m, in \u001b[0;36mJavaMember.__call__\u001b[1;34m(self, *args)\u001b[0m\n\u001b[0;32m   1316\u001b[0m command \u001b[38;5;241m=\u001b[39m proto\u001b[38;5;241m.\u001b[39mCALL_COMMAND_NAME \u001b[38;5;241m+\u001b[39m\\\n\u001b[0;32m   1317\u001b[0m     \u001b[38;5;28mself\u001b[39m\u001b[38;5;241m.\u001b[39mcommand_header \u001b[38;5;241m+\u001b[39m\\\n\u001b[0;32m   1318\u001b[0m     args_command \u001b[38;5;241m+\u001b[39m\\\n\u001b[0;32m   1319\u001b[0m     proto\u001b[38;5;241m.\u001b[39mEND_COMMAND_PART\n\u001b[0;32m   1321\u001b[0m answer \u001b[38;5;241m=\u001b[39m \u001b[38;5;28mself\u001b[39m\u001b[38;5;241m.\u001b[39mgateway_client\u001b[38;5;241m.\u001b[39msend_command(command)\n\u001b[1;32m-> 1322\u001b[0m return_value \u001b[38;5;241m=\u001b[39m \u001b[43mget_return_value\u001b[49m\u001b[43m(\u001b[49m\n\u001b[0;32m   1323\u001b[0m \u001b[43m    \u001b[49m\u001b[43manswer\u001b[49m\u001b[43m,\u001b[49m\u001b[43m \u001b[49m\u001b[38;5;28;43mself\u001b[39;49m\u001b[38;5;241;43m.\u001b[39;49m\u001b[43mgateway_client\u001b[49m\u001b[43m,\u001b[49m\u001b[43m \u001b[49m\u001b[38;5;28;43mself\u001b[39;49m\u001b[38;5;241;43m.\u001b[39;49m\u001b[43mtarget_id\u001b[49m\u001b[43m,\u001b[49m\u001b[43m \u001b[49m\u001b[38;5;28;43mself\u001b[39;49m\u001b[38;5;241;43m.\u001b[39;49m\u001b[43mname\u001b[49m\u001b[43m)\u001b[49m\n\u001b[0;32m   1325\u001b[0m \u001b[38;5;28;01mfor\u001b[39;00m temp_arg \u001b[38;5;129;01min\u001b[39;00m temp_args:\n\u001b[0;32m   1326\u001b[0m     \u001b[38;5;28;01mif\u001b[39;00m \u001b[38;5;28mhasattr\u001b[39m(temp_arg, \u001b[38;5;124m\"\u001b[39m\u001b[38;5;124m_detach\u001b[39m\u001b[38;5;124m\"\u001b[39m):\n",
      "File \u001b[1;32m~\\anaconda3\\lib\\site-packages\\pyspark\\errors\\exceptions\\captured.py:185\u001b[0m, in \u001b[0;36mcapture_sql_exception.<locals>.deco\u001b[1;34m(*a, **kw)\u001b[0m\n\u001b[0;32m    181\u001b[0m converted \u001b[38;5;241m=\u001b[39m convert_exception(e\u001b[38;5;241m.\u001b[39mjava_exception)\n\u001b[0;32m    182\u001b[0m \u001b[38;5;28;01mif\u001b[39;00m \u001b[38;5;129;01mnot\u001b[39;00m \u001b[38;5;28misinstance\u001b[39m(converted, UnknownException):\n\u001b[0;32m    183\u001b[0m     \u001b[38;5;66;03m# Hide where the exception came from that shows a non-Pythonic\u001b[39;00m\n\u001b[0;32m    184\u001b[0m     \u001b[38;5;66;03m# JVM exception message.\u001b[39;00m\n\u001b[1;32m--> 185\u001b[0m     \u001b[38;5;28;01mraise\u001b[39;00m converted \u001b[38;5;28;01mfrom\u001b[39;00m \u001b[38;5;28;01mNone\u001b[39;00m\n\u001b[0;32m    186\u001b[0m \u001b[38;5;28;01melse\u001b[39;00m:\n\u001b[0;32m    187\u001b[0m     \u001b[38;5;28;01mraise\u001b[39;00m\n",
      "\u001b[1;31mAnalysisException\u001b[0m: [MISSING_GROUP_BY] The query does not include a GROUP BY clause. Add GROUP BY or turn it into the window functions using OVER clauses.; line 1 pos 0;\nAggregate [customer_name#27, mean(CLAIM_AMOUNT#26) AS claimed#1393, count(CLAIM_AMOUNT#26) AS cnt#1394L]\n+- Filter (age#35 >= 50)\n   +- SubqueryAlias kaltable\n      +- View (`KalTable`, [CUSTOMER_NAME#27,AGE#35,PREMIUM_AMOUNT#25,ACCT_NUMBER#43,CLAIM_AMOUNT#26,EMPLOYMENT_STATUS#37,MARITAL_STATUS#34,CLAIM_STATUS#45,INCIDENT_SEVERITY#46,SOCIAL_CLASS#41,VENDOR_ID#54,CUSTOMER_ID#19])\n         +- Project [CUSTOMER_NAME#27, AGE#35, PREMIUM_AMOUNT#25, ACCT_NUMBER#43, CLAIM_AMOUNT#26, EMPLOYMENT_STATUS#37, MARITAL_STATUS#34, CLAIM_STATUS#45, INCIDENT_SEVERITY#46, SOCIAL_CLASS#41, VENDOR_ID#54, CUSTOMER_ID#19]\n            +- Project [VENDOR_ID#54, TXN_DATE_TIME#17, TRANSACTION_ID#18, CUSTOMER_ID#19, POLICY_NUMBER#20, POLICY_EFF_DT#21, LOSS_DT#22, REPORT_DT#23, INSURANCE_TYPE#24, PREMIUM_AMOUNT#25, CLAIM_AMOUNT#26, CUSTOMER_NAME#27, ADDRESS_LINE1#28, ADDRESS_LINE2#29, CITY#30, STATE#31, POSTAL_CODE#32, SSN#33, MARITAL_STATUS#34, AGE#35, TENURE#36, EMPLOYMENT_STATUS#37, NO_OF_FAMILY_MEMBERS#38, RISK_SEGMENTATION#39, ... 20 more fields]\n               +- Join LeftOuter, (VENDOR_ID#54 = VENDOR_ID#110)\n                  :- Relation [TXN_DATE_TIME#17,TRANSACTION_ID#18,CUSTOMER_ID#19,POLICY_NUMBER#20,POLICY_EFF_DT#21,LOSS_DT#22,REPORT_DT#23,INSURANCE_TYPE#24,PREMIUM_AMOUNT#25,CLAIM_AMOUNT#26,CUSTOMER_NAME#27,ADDRESS_LINE1#28,ADDRESS_LINE2#29,CITY#30,STATE#31,POSTAL_CODE#32,SSN#33,MARITAL_STATUS#34,AGE#35,TENURE#36,EMPLOYMENT_STATUS#37,NO_OF_FAMILY_MEMBERS#38,RISK_SEGMENTATION#39,HOUSE_TYPE#40,... 14 more fields] csv\n                  +- Relation [VENDOR_ID#110,VENDOR_NAME#111,ADDRESS_LINE1#112,ADDRESS_LINE2#113,CITY#114,STATE#115,POSTAL_CODE#116] csv\n"
     ]
    }
   ],
   "source": [
    "spark.sql(\"select customer_name, mean(CLAIM_AMOUNT) as claimed, count(CLAIM_AMOUNT) as cnt from kalTable where age >= 50 \").show()"
   ]
  },
  {
   "cell_type": "code",
   "execution_count": 72,
   "id": "76e9204e",
   "metadata": {},
   "outputs": [
    {
     "name": "stdout",
     "output_type": "stream",
     "text": [
      "+------------------+-------+---+\n",
      "|     customer_name|claimed|cnt|\n",
      "+------------------+-------+---+\n",
      "|    Raymond Kiffer|15000.0|  1|\n",
      "|   Cherie Regalado|19000.0|  1|\n",
      "|      Rachel Olson|  700.0|  1|\n",
      "|     Maria Luciani|36000.0|  1|\n",
      "|      Nydia Bowser|15000.0|  1|\n",
      "|    Joyce Mcintyre|28000.0|  1|\n",
      "|    Josephine Pyle|25000.0|  1|\n",
      "|      Ruth Clouser|31000.0|  1|\n",
      "|       Tracy Smith|64000.0|  1|\n",
      "|   Brooke Lawrence| 5000.0|  1|\n",
      "|       Gary Rogers|14000.0|  1|\n",
      "|     Crystal Ramos|99000.0|  1|\n",
      "|      Lynn Thurmer|  400.0|  1|\n",
      "|       Byron Estes|  600.0|  1|\n",
      "|Marianne Armstrong|30000.0|  1|\n",
      "|      James Conley|24000.0|  1|\n",
      "|     Roger Kuehnle|15000.0|  1|\n",
      "|     Rosie Milburn|11000.0|  1|\n",
      "|      John Hopkins| 9000.0|  1|\n",
      "|    Edward Peacock|40000.0|  1|\n",
      "+------------------+-------+---+\n",
      "only showing top 20 rows\n",
      "\n"
     ]
    }
   ],
   "source": [
    "spark.sql(\"select customer_name, mean(CLAIM_AMOUNT) as claimed, count(CLAIM_AMOUNT) as cnt from kalTable where age >= 45 group by customer_name\").show()"
   ]
  },
  {
   "cell_type": "code",
   "execution_count": 94,
   "id": "409bc8a3",
   "metadata": {},
   "outputs": [
    {
     "name": "stdout",
     "output_type": "stream",
     "text": [
      "+--------------+----------+----------+\n",
      "|PREMIUM_AMOUNT|Minor Loss|Total Loss|\n",
      "+--------------+----------+----------+\n",
      "|          9.13|       300|       800|\n",
      "|        134.49|      NULL|      NULL|\n",
      "|          74.5|      NULL|     78000|\n",
      "|          76.4|     58000|      NULL|\n",
      "|         86.44|     63000|      NULL|\n",
      "|         65.78|      NULL|      4000|\n",
      "|         76.98|     66000|      NULL|\n",
      "|        181.35|      NULL|      NULL|\n",
      "|         53.82|      NULL|      NULL|\n",
      "|        194.47|      NULL|      NULL|\n",
      "|         85.86|      9000|      NULL|\n",
      "|          8.51|       500|       400|\n",
      "|         128.8|      NULL|     36000|\n",
      "|          98.3|      7000|      NULL|\n",
      "|         77.19|      NULL|      NULL|\n",
      "|         58.51|      NULL|      4000|\n",
      "|        106.01|      NULL|      NULL|\n",
      "|        150.13|      NULL|      NULL|\n",
      "|         95.57|     62000|      NULL|\n",
      "|         76.46|      1000|      NULL|\n",
      "+--------------+----------+----------+\n",
      "only showing top 20 rows\n",
      "\n"
     ]
    }
   ],
   "source": [
    "#Performing the quereis using the pyspark dataframe using pivot\n",
    "df4.groupBy(\"PREMIUM_AMOUNT\").pivot(\"INCIDENT_SEVERITY\", [\"Minor Loss\", \"Total Loss\"]).sum(\"CLAIM_AMOUNT\").show()"
   ]
  },
  {
   "cell_type": "code",
   "execution_count": 95,
   "id": "31646868",
   "metadata": {},
   "outputs": [
    {
     "name": "stdout",
     "output_type": "stream",
     "text": [
      "+------------+------------------+------------------+\n",
      "|CLAIM_AMOUNT|        Minor Loss|        Total Loss|\n",
      "+------------+------------------+------------------+\n",
      "|       85000|            176.56|408.15999999999997|\n",
      "|        3000|17934.360000000004|17688.990000000005|\n",
      "|       78000|            396.03|            312.39|\n",
      "|       76000|            344.41| 844.7499999999999|\n",
      "|        4000|          16457.87|19085.430000000008|\n",
      "|       39000|           3166.85|           2691.78|\n",
      "|       23000| 3209.379999999999|3407.2099999999996|\n",
      "|       27000|           1823.03|           2902.95|\n",
      "|       91000|            499.12|            642.51|\n",
      "|       54000|409.57000000000005|            526.86|\n",
      "|         300| 738.7099999999998| 757.9699999999998|\n",
      "|       16000| 6000.209999999999|           7198.13|\n",
      "|       35000|2809.6699999999996|           2838.13|\n",
      "|       44000|            213.82|            525.78|\n",
      "|       99000| 929.4999999999999|            570.59|\n",
      "|       63000|            627.89|            545.54|\n",
      "|       12000|           6500.11| 5544.129999999998|\n",
      "|       19000| 8681.849999999999| 6861.999999999999|\n",
      "|       13000|5632.8899999999985| 8338.760000000002|\n",
      "|       32000|1986.6400000000003| 3547.419999999999|\n",
      "+------------+------------------+------------------+\n",
      "only showing top 20 rows\n",
      "\n"
     ]
    }
   ],
   "source": [
    "df4.groupBy(\"CLAIM_AMOUNT\").pivot(\"INCIDENT_SEVERITY\", [\"Minor Loss\", \"Total Loss\"]).sum(\"PREMIUM_AMOUNT\").show()"
   ]
  },
  {
   "cell_type": "code",
   "execution_count": 96,
   "id": "312d85e4",
   "metadata": {},
   "outputs": [
    {
     "name": "stdout",
     "output_type": "stream",
     "text": [
      "+--------------+----------+----------+----------+\n",
      "|PREMIUM_AMOUNT|Major Loss|Minor Loss|Total Loss|\n",
      "+--------------+----------+----------+----------+\n",
      "|          9.13|      NULL|       300|       800|\n",
      "|        134.49|      5000|      NULL|      NULL|\n",
      "|          74.5|      8000|      NULL|     78000|\n",
      "|          76.4|      NULL|     58000|      NULL|\n",
      "|         86.44|      NULL|     63000|      NULL|\n",
      "|         65.78|      NULL|      NULL|      4000|\n",
      "|         76.98|     48000|     66000|      NULL|\n",
      "|        181.35|      7000|      NULL|      NULL|\n",
      "|         53.82|      2000|      NULL|      NULL|\n",
      "|        194.47|      2000|      NULL|      NULL|\n",
      "|         85.86|      NULL|      9000|      NULL|\n",
      "|          8.51|      1100|       500|       400|\n",
      "|         128.8|      NULL|      NULL|     36000|\n",
      "|          98.3|      NULL|      7000|      NULL|\n",
      "|         77.19|      4000|      NULL|      NULL|\n",
      "|         58.51|      NULL|      NULL|      4000|\n",
      "|        106.01|      3000|      NULL|      NULL|\n",
      "|        150.13|     18000|      NULL|      NULL|\n",
      "|         95.57|     23000|     62000|      NULL|\n",
      "|         76.46|      NULL|      1000|      NULL|\n",
      "+--------------+----------+----------+----------+\n",
      "only showing top 20 rows\n",
      "\n"
     ]
    }
   ],
   "source": [
    "df4.groupBy(\"PREMIUM_AMOUNT\").pivot(\"INCIDENT_SEVERITY\").sum(\"CLAIM_AMOUNT\").show()"
   ]
  },
  {
   "cell_type": "code",
   "execution_count": 97,
   "id": "be754afa",
   "metadata": {},
   "outputs": [
    {
     "name": "stdout",
     "output_type": "stream",
     "text": [
      "+--------------+----------+----------+----------+\n",
      "|PREMIUM_AMOUNT|Major Loss|Minor Loss|Total Loss|\n",
      "+--------------+----------+----------+----------+\n",
      "|          9.13|      NULL|       300|       800|\n",
      "|        134.49|      5000|      NULL|      NULL|\n",
      "|          74.5|      8000|      NULL|     78000|\n",
      "|          76.4|      NULL|     58000|      NULL|\n",
      "|         86.44|      NULL|     63000|      NULL|\n",
      "|         65.78|      NULL|      NULL|      4000|\n",
      "|         76.98|     48000|     66000|      NULL|\n",
      "|        181.35|      7000|      NULL|      NULL|\n",
      "|         53.82|      2000|      NULL|      NULL|\n",
      "|        194.47|      2000|      NULL|      NULL|\n",
      "|         85.86|      NULL|      9000|      NULL|\n",
      "|          8.51|      1100|       500|       400|\n",
      "|         128.8|      NULL|      NULL|     36000|\n",
      "|          98.3|      NULL|      7000|      NULL|\n",
      "|         77.19|      4000|      NULL|      NULL|\n",
      "|         58.51|      NULL|      NULL|      4000|\n",
      "|        106.01|      3000|      NULL|      NULL|\n",
      "|        150.13|     18000|      NULL|      NULL|\n",
      "|         95.57|     23000|     62000|      NULL|\n",
      "|         76.46|      NULL|      1000|      NULL|\n",
      "+--------------+----------+----------+----------+\n",
      "only showing top 20 rows\n",
      "\n"
     ]
    }
   ],
   "source": [
    "df4.groupBy(\"PREMIUM_AMOUNT\").pivot(\"INCIDENT_SEVERITY\").sum(\"CLAIM_AMOUNT\").show()"
   ]
  },
  {
   "cell_type": "code",
   "execution_count": 100,
   "id": "b80ce028",
   "metadata": {},
   "outputs": [
    {
     "name": "stdout",
     "output_type": "stream",
     "text": [
      "+------------+------------------+------------------+\n",
      "|CLAIM_AMOUNT|                 N|                 Y|\n",
      "+------------+------------------+------------------+\n",
      "|       85000|              NULL| 987.8700000000001|\n",
      "|        3000|           3970.68| 48360.72999999998|\n",
      "|       78000|             69.72|1180.3899999999999|\n",
      "|        4000| 4871.049999999998|48508.260000000024|\n",
      "|       76000|             84.17|           1568.78|\n",
      "|       39000| 718.8199999999999| 8394.870000000004|\n",
      "|       23000|            712.47| 8021.680000000003|\n",
      "|       27000|            804.44| 6181.740000000001|\n",
      "|       91000|            152.91|1247.6699999999998|\n",
      "|       54000|             98.97|1345.8999999999999|\n",
      "|         300| 266.7199999999999|            1800.8|\n",
      "|       16000|           1039.99|17910.880000000005|\n",
      "|       35000|           1084.67|           7277.81|\n",
      "|       44000|              84.0|           1461.55|\n",
      "|       63000|             93.36|1638.0699999999997|\n",
      "|       99000|             266.5|           1824.51|\n",
      "|       12000|           1570.44|16955.159999999996|\n",
      "|       19000|1893.0099999999995|21744.800000000014|\n",
      "|       32000|            552.42|            7162.0|\n",
      "|       13000|1748.4400000000005|21089.649999999994|\n",
      "+------------+------------------+------------------+\n",
      "only showing top 20 rows\n",
      "\n"
     ]
    }
   ],
   "source": [
    " df4.groupBy(\"CLAIM_AMOUNT\").pivot(\"EMPLOYMENT_STATUS\").sum(\"PREMIUM_AMOUNT\").show()"
   ]
  },
  {
   "cell_type": "code",
   "execution_count": 121,
   "id": "e2dc0c40",
   "metadata": {},
   "outputs": [
    {
     "name": "stdout",
     "output_type": "stream",
     "text": [
      "+-------+-----------------+\n",
      "|claimed|             name|\n",
      "+-------+-----------------+\n",
      "| 4000.0| Patricia English|\n",
      "|32350.0|      Tracy Smith|\n",
      "|15000.0|     Nydia Bowser|\n",
      "|  400.0|     Judy Clemmer|\n",
      "|  300.0|      Leona Nixon|\n",
      "|20000.0|Lawrence Williams|\n",
      "| 5000.0| Herlinda Damelio|\n",
      "| 5000.0|  Brooke Lawrence|\n",
      "|14000.0|      Gary Rogers|\n",
      "|34000.0|      Wilma Woody|\n",
      "| 5000.0|     Kyle Goodier|\n",
      "|  400.0|     Lynn Thurmer|\n",
      "|  600.0|      Byron Estes|\n",
      "|24000.0|     James Conley|\n",
      "|15000.0|    Roger Kuehnle|\n",
      "| 8000.0|   Bradley Rivera|\n",
      "| 7000.0|       Julio Reed|\n",
      "| 7000.0|  Jason Albertson|\n",
      "| 4000.0|   Benjamin Ramos|\n",
      "| 9000.0|     John Hopkins|\n",
      "+-------+-----------------+\n",
      "only showing top 20 rows\n",
      "\n"
     ]
    }
   ],
   "source": [
    "spark.sql(\"select mean(CLAIM_AMOUNT) as claimed, customer_name as name from(select * from kalTable where social_class = 'MI') group by customer_name\").show()"
   ]
  },
  {
   "cell_type": "code",
   "execution_count": 122,
   "id": "3d102be6",
   "metadata": {},
   "outputs": [
    {
     "name": "stdout",
     "output_type": "stream",
     "text": [
      "+-------+----------------+\n",
      "|claimed|            name|\n",
      "+-------+----------------+\n",
      "|19000.0| Cherie Regalado|\n",
      "|36000.0|   Maria Luciani|\n",
      "|28000.0|  Joyce Mcintyre|\n",
      "|25000.0|  Josephine Pyle|\n",
      "|31000.0|    Ruth Clouser|\n",
      "|37000.0| Nicholas Begley|\n",
      "| 5000.0|  Michael Gordon|\n",
      "|11000.0|   Rosie Milburn|\n",
      "|40000.0|  Edward Peacock|\n",
      "| 5000.0|      Isaac Then|\n",
      "| 2000.0|   Andre Whitman|\n",
      "| 4000.0|     Brian Cadiz|\n",
      "|  200.0|Elizabeth Turner|\n",
      "|29000.0|  Joshua Goodwin|\n",
      "|11000.0|Ronald Bannister|\n",
      "|25000.0|    Chuck Tellez|\n",
      "| 4000.0|    Dominic Cato|\n",
      "|37000.0|  Cherryl Leedom|\n",
      "| 6000.0|   Walter Conner|\n",
      "|21000.0|   Michael Smith|\n",
      "+-------+----------------+\n",
      "only showing top 20 rows\n",
      "\n"
     ]
    }
   ],
   "source": [
    "spark.sql(\"select mean(CLAIM_AMOUNT) as claimed, customer_name as name from(select * from kalTable where social_class = 'HI') group by customer_name\").show()"
   ]
  },
  {
   "cell_type": "code",
   "execution_count": 127,
   "id": "647c11cc",
   "metadata": {},
   "outputs": [
    {
     "name": "stdout",
     "output_type": "stream",
     "text": [
      "+-------+-------------------+\n",
      "|claimed|               name|\n",
      "+-------+-------------------+\n",
      "| 2000.0|      Gladys Wilson|\n",
      "|15000.0|         Gwen Scott|\n",
      "|  300.0|     Grisel Goodale|\n",
      "| 2000.0|        Glenda Hart|\n",
      "| 9000.0|     George Shively|\n",
      "|10000.0|      Gerald Macias|\n",
      "|75000.0|         Gail Ollis|\n",
      "| 4000.0|     Grace Mcfarlin|\n",
      "|96000.0|        George Hunt|\n",
      "|22000.0|       Gregory Lien|\n",
      "|  200.0|          Gary Winn|\n",
      "|15000.0|    Gregg Bumgarner|\n",
      "| 9000.0|       Gerald Johns|\n",
      "| 2000.0|Geraldine Hampshire|\n",
      "| 4000.0|      Garry Rushing|\n",
      "| 2000.0|      Gregory Henry|\n",
      "|  100.0|      Gregory Brown|\n",
      "|  300.0|        Gladys Webb|\n",
      "| 6000.0|       Gail Hoffman|\n",
      "| 5000.0|    Genevieve White|\n",
      "+-------+-------------------+\n",
      "only showing top 20 rows\n",
      "\n"
     ]
    }
   ],
   "source": [
    " spark.sql(\"select mean(CLAIM_AMOUNT) as claimed, customer_name as name from(select * from kalTable where social_class = 'HI' AND customer_name LIKE 'G%'  ) group by customer_name\").show()"
   ]
  },
  {
   "cell_type": "code",
   "execution_count": 134,
   "id": "a8b82a41",
   "metadata": {},
   "outputs": [
    {
     "name": "stdout",
     "output_type": "stream",
     "text": [
      "+-------+-------------------+\n",
      "|claimed|               name|\n",
      "+-------+-------------------+\n",
      "| 2000.0|      Andre Whitman|\n",
      "| 4000.0|        Brian Cadiz|\n",
      "| 3000.0|         Brandi Ney|\n",
      "|  500.0|   Arnoldo Gilliard|\n",
      "| 4000.0|          Amy Evans|\n",
      "| 3000.0|      Bernard Fonua|\n",
      "|34000.0|         Bill Mcgee|\n",
      "|16000.0|       Billy Jaudon|\n",
      "| 3000.0|  Beverly Sanderson|\n",
      "|17000.0|Barbara Sommerville|\n",
      "|  700.0|    Albert Thompson|\n",
      "|82000.0|       Betty Magill|\n",
      "|82000.0|      Brandon Osmer|\n",
      "|83000.0|     Bradley Alston|\n",
      "|  500.0|       Albert Davis|\n",
      "|59000.0|     Andre Hartigan|\n",
      "|24000.0|     Angela Liptrot|\n",
      "| 7000.0|  Anthony Carpenter|\n",
      "|64000.0|     Brooks Grizzle|\n",
      "|  700.0|       Betty Bowman|\n",
      "+-------+-------------------+\n",
      "only showing top 20 rows\n",
      "\n"
     ]
    }
   ],
   "source": [
    " spark.sql(\" select   mean(CLAIM_AMOUNT) as claimed, customer_name as name from(select * from kalTable where social_class = 'HI' AND (customer_name LIKE 'A%' or customer_name LIKE 'B%' )  ) group by customer_name\").show()"
   ]
  },
  {
   "cell_type": "code",
   "execution_count": null,
   "id": "0a779c72",
   "metadata": {},
   "outputs": [],
   "source": []
  }
 ],
 "metadata": {
  "kernelspec": {
   "display_name": "Python 3 (ipykernel)",
   "language": "python",
   "name": "python3"
  },
  "language_info": {
   "codemirror_mode": {
    "name": "ipython",
    "version": 3
   },
   "file_extension": ".py",
   "mimetype": "text/x-python",
   "name": "python",
   "nbconvert_exporter": "python",
   "pygments_lexer": "ipython3",
   "version": "3.10.9"
  }
 },
 "nbformat": 4,
 "nbformat_minor": 5
}
